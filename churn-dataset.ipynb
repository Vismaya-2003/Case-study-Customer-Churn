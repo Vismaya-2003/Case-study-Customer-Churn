{
 "cells": [
  {
   "cell_type": "markdown",
   "metadata": {},
   "source": [
    "Installing the necessary libraries to generate the dataset"
   ]
  },
  {
   "cell_type": "code",
   "execution_count": 37,
   "metadata": {},
   "outputs": [
    {
     "name": "stdout",
     "output_type": "stream",
     "text": [
      "Requirement already satisfied: numpy in c:\\users\\visma\\anaconda3\\vismaya\\lib\\site-packages (1.26.4)\n",
      "Requirement already satisfied: pandas in c:\\users\\visma\\anaconda3\\vismaya\\lib\\site-packages (2.1.4)\n",
      "Requirement already satisfied: numpy<2,>=1.23.2 in c:\\users\\visma\\anaconda3\\vismaya\\lib\\site-packages (from pandas) (1.26.4)\n",
      "Requirement already satisfied: python-dateutil>=2.8.2 in c:\\users\\visma\\anaconda3\\vismaya\\lib\\site-packages (from pandas) (2.8.2)\n",
      "Requirement already satisfied: pytz>=2020.1 in c:\\users\\visma\\anaconda3\\vismaya\\lib\\site-packages (from pandas) (2023.3.post1)\n",
      "Requirement already satisfied: tzdata>=2022.1 in c:\\users\\visma\\anaconda3\\vismaya\\lib\\site-packages (from pandas) (2023.3)\n",
      "Requirement already satisfied: six>=1.5 in c:\\users\\visma\\anaconda3\\vismaya\\lib\\site-packages (from python-dateutil>=2.8.2->pandas) (1.16.0)\n"
     ]
    },
    {
     "name": "stderr",
     "output_type": "stream",
     "text": [
      "ERROR: Could not find a version that satisfies the requirement random (from versions: none)\n",
      "ERROR: No matching distribution found for random\n"
     ]
    }
   ],
   "source": [
    "# Installing numpy into the environment\n",
    "!pip install numpy\n",
    "\n",
    "# Installing pandas into the environment\n",
    "!pip install pandas\n",
    "\n",
    "# Installing random into the environment\n",
    "!pip install random"
   ]
  },
  {
   "cell_type": "markdown",
   "metadata": {},
   "source": [
    "Importing the necessary libraries into the environment"
   ]
  },
  {
   "cell_type": "code",
   "execution_count": 38,
   "metadata": {},
   "outputs": [],
   "source": [
    "# Importing numpy into the environment\n",
    "import numpy as np\n",
    "# Importing pandas into the environment\n",
    "import pandas as pd\n",
    "# Importing random into the environment\n",
    "import random"
   ]
  },
  {
   "cell_type": "code",
   "execution_count": 39,
   "metadata": {},
   "outputs": [],
   "source": [
    "# Seeting random seed for reproducibility\n",
    "np.random.seed(42)"
   ]
  },
  {
   "cell_type": "markdown",
   "metadata": {},
   "source": [
    "Iniatializing values and parameters for the dataset"
   ]
  },
  {
   "cell_type": "code",
   "execution_count": 40,
   "metadata": {},
   "outputs": [],
   "source": [
    "# Initializing the number of records required in the dataset\n",
    "num_records = 5000"
   ]
  },
  {
   "cell_type": "code",
   "execution_count": 41,
   "metadata": {},
   "outputs": [],
   "source": [
    "# Generating curtomer ID\n",
    "customer_ids = [f'CUST{str(i).zfill(5)}' for i in range(1, num_records+1)]"
   ]
  },
  {
   "cell_type": "code",
   "execution_count": 42,
   "metadata": {},
   "outputs": [],
   "source": [
    "# Generating Age for each row in the dataset\n",
    "ages = np.random.randint(18, 70, size=num_records)"
   ]
  },
  {
   "cell_type": "code",
   "execution_count": 43,
   "metadata": {},
   "outputs": [],
   "source": [
    "# Generating Genders for each row in the dataset\n",
    "genders = np.random.choice(['Male', 'Female'], size=num_records)"
   ]
  },
  {
   "cell_type": "code",
   "execution_count": 44,
   "metadata": {},
   "outputs": [],
   "source": [
    "# Generating the Contract-Type for each row in the dataset\n",
    "contract_types = np.random.choice(['Month-to-month', 'One year', 'Two year'], size=num_records, p=[0.5, 0.3, 0.2])"
   ]
  },
  {
   "cell_type": "code",
   "execution_count": 45,
   "metadata": {},
   "outputs": [],
   "source": [
    "# Generating Monthly and Total Charges with some correlations\n",
    "monthly_charges = np.round(np.random.uniform(20, 120, num_records), 2)\n",
    "tenures = np.random.randint(1, 72, size=num_records)\n",
    "total_charges = np.round(monthly_charges * tenures + np.random.normal(0, 50, num_records), 2)"
   ]
  },
  {
   "cell_type": "code",
   "execution_count": 46,
   "metadata": {},
   "outputs": [],
   "source": [
    "# Generating Tech Support  for each row in the dataset\n",
    "tech_support = np.random.choice(['Yes', 'No'], size=num_records, p=[0.3, 0.7])"
   ]
  },
  {
   "cell_type": "code",
   "execution_count": 47,
   "metadata": {},
   "outputs": [],
   "source": [
    "# Generating Internet-services for each row in the dataset\n",
    "internet_services = np.random.choice(['DSL', 'Fiber optic', 'No'], size=num_records, p=[0.4, 0.5, 0.1])"
   ]
  },
  {
   "cell_type": "code",
   "execution_count": 48,
   "metadata": {},
   "outputs": [],
   "source": [
    "# Generating paperless_billing for each row in the dataset\n",
    "paperless_billing = np.random.choice(['Yes', 'No'], size=num_records, p=[0.7, 0.3])"
   ]
  },
  {
   "cell_type": "code",
   "execution_count": 49,
   "metadata": {},
   "outputs": [],
   "source": [
    "# Generating PaymentMethod for each row in the dataset\n",
    "payment_methods = np.random.choice(['Electronic check', 'Mailed check', 'Bank transfer', 'Credit card'], size=num_records)"
   ]
  },
  {
   "cell_type": "markdown",
   "metadata": {},
   "source": [
    "Introducing churn-rate into the dataset"
   ]
  },
  {
   "cell_type": "code",
   "execution_count": 50,
   "metadata": {},
   "outputs": [],
   "source": [
    "# Introducing a 20% churn-rate target\n",
    "churn = np.random.choice(['Yes', 'No'], size=num_records, p=[0.2, 0.8])"
   ]
  },
  {
   "cell_type": "markdown",
   "metadata": {},
   "source": [
    "Compiling the dataframe"
   ]
  },
  {
   "cell_type": "code",
   "execution_count": 51,
   "metadata": {},
   "outputs": [],
   "source": [
    "# Compile the dataframe and name it \"churn\"\n",
    "churn = pd.DataFrame({\n",
    "    'CustomerID': customer_ids,\n",
    "    'Age': ages,\n",
    "    'Gender': genders,\n",
    "    'ContractType': contract_types,\n",
    "    'MonthlyCharges': monthly_charges,\n",
    "    'TotalCharges': total_charges,\n",
    "    'TechSupport': tech_support,\n",
    "    'InternetService': internet_services,\n",
    "    'Tenure': tenures,\n",
    "    'PaperlessBilling': paperless_billing,\n",
    "    'PaymentMethod': payment_methods,\n",
    "    'Churn': churn\n",
    "})"
   ]
  },
  {
   "cell_type": "markdown",
   "metadata": {},
   "source": [
    "Introducing missing values and outiers in the dataset"
   ]
  },
  {
   "cell_type": "code",
   "execution_count": 52,
   "metadata": {},
   "outputs": [],
   "source": [
    "# Introducing 5% missing values in the dataset\n",
    "for col in ['TotalCharges', 'Tenure', 'MonthlyCharges']:\n",
    "    churn.loc[random.sample(range(num_records), int(0.05 * num_records)), col] = np.nan  # 5% missing values"
   ]
  },
  {
   "cell_type": "code",
   "execution_count": 53,
   "metadata": {},
   "outputs": [],
   "source": [
    "# Introducing 1% outliers in the dataframe\n",
    "churn.loc[random.sample(range(num_records), int(0.01 * num_records)), 'MonthlyCharges'] *= 1.5  # 1% outliers"
   ]
  },
  {
   "cell_type": "markdown",
   "metadata": {},
   "source": [
    "Loading the newly generated dataset"
   ]
  },
  {
   "cell_type": "code",
   "execution_count": 54,
   "metadata": {},
   "outputs": [
    {
     "data": {
      "text/html": [
       "<div>\n",
       "<style scoped>\n",
       "    .dataframe tbody tr th:only-of-type {\n",
       "        vertical-align: middle;\n",
       "    }\n",
       "\n",
       "    .dataframe tbody tr th {\n",
       "        vertical-align: top;\n",
       "    }\n",
       "\n",
       "    .dataframe thead th {\n",
       "        text-align: right;\n",
       "    }\n",
       "</style>\n",
       "<table border=\"1\" class=\"dataframe\">\n",
       "  <thead>\n",
       "    <tr style=\"text-align: right;\">\n",
       "      <th></th>\n",
       "      <th>CustomerID</th>\n",
       "      <th>Age</th>\n",
       "      <th>Gender</th>\n",
       "      <th>ContractType</th>\n",
       "      <th>MonthlyCharges</th>\n",
       "      <th>TotalCharges</th>\n",
       "      <th>TechSupport</th>\n",
       "      <th>InternetService</th>\n",
       "      <th>Tenure</th>\n",
       "      <th>PaperlessBilling</th>\n",
       "      <th>PaymentMethod</th>\n",
       "      <th>Churn</th>\n",
       "    </tr>\n",
       "  </thead>\n",
       "  <tbody>\n",
       "    <tr>\n",
       "      <th>0</th>\n",
       "      <td>CUST00001</td>\n",
       "      <td>56</td>\n",
       "      <td>Male</td>\n",
       "      <td>One year</td>\n",
       "      <td>82.58</td>\n",
       "      <td>1125.21</td>\n",
       "      <td>Yes</td>\n",
       "      <td>Fiber optic</td>\n",
       "      <td>14.0</td>\n",
       "      <td>Yes</td>\n",
       "      <td>Bank transfer</td>\n",
       "      <td>No</td>\n",
       "    </tr>\n",
       "    <tr>\n",
       "      <th>1</th>\n",
       "      <td>CUST00002</td>\n",
       "      <td>69</td>\n",
       "      <td>Female</td>\n",
       "      <td>Month-to-month</td>\n",
       "      <td>60.91</td>\n",
       "      <td>2464.74</td>\n",
       "      <td>Yes</td>\n",
       "      <td>Fiber optic</td>\n",
       "      <td>41.0</td>\n",
       "      <td>Yes</td>\n",
       "      <td>Mailed check</td>\n",
       "      <td>No</td>\n",
       "    </tr>\n",
       "    <tr>\n",
       "      <th>2</th>\n",
       "      <td>CUST00003</td>\n",
       "      <td>46</td>\n",
       "      <td>Female</td>\n",
       "      <td>Two year</td>\n",
       "      <td>45.40</td>\n",
       "      <td>29.78</td>\n",
       "      <td>No</td>\n",
       "      <td>Fiber optic</td>\n",
       "      <td>2.0</td>\n",
       "      <td>No</td>\n",
       "      <td>Credit card</td>\n",
       "      <td>No</td>\n",
       "    </tr>\n",
       "    <tr>\n",
       "      <th>3</th>\n",
       "      <td>CUST00004</td>\n",
       "      <td>32</td>\n",
       "      <td>Male</td>\n",
       "      <td>Month-to-month</td>\n",
       "      <td>105.97</td>\n",
       "      <td>2061.71</td>\n",
       "      <td>No</td>\n",
       "      <td>DSL</td>\n",
       "      <td>19.0</td>\n",
       "      <td>Yes</td>\n",
       "      <td>Electronic check</td>\n",
       "      <td>No</td>\n",
       "    </tr>\n",
       "    <tr>\n",
       "      <th>4</th>\n",
       "      <td>CUST00005</td>\n",
       "      <td>60</td>\n",
       "      <td>Male</td>\n",
       "      <td>Month-to-month</td>\n",
       "      <td>90.02</td>\n",
       "      <td>111.76</td>\n",
       "      <td>Yes</td>\n",
       "      <td>DSL</td>\n",
       "      <td>1.0</td>\n",
       "      <td>Yes</td>\n",
       "      <td>Electronic check</td>\n",
       "      <td>No</td>\n",
       "    </tr>\n",
       "  </tbody>\n",
       "</table>\n",
       "</div>"
      ],
      "text/plain": [
       "  CustomerID  Age  Gender    ContractType  MonthlyCharges  TotalCharges  \\\n",
       "0  CUST00001   56    Male        One year           82.58       1125.21   \n",
       "1  CUST00002   69  Female  Month-to-month           60.91       2464.74   \n",
       "2  CUST00003   46  Female        Two year           45.40         29.78   \n",
       "3  CUST00004   32    Male  Month-to-month          105.97       2061.71   \n",
       "4  CUST00005   60    Male  Month-to-month           90.02        111.76   \n",
       "\n",
       "  TechSupport InternetService  Tenure PaperlessBilling     PaymentMethod Churn  \n",
       "0         Yes     Fiber optic    14.0              Yes     Bank transfer    No  \n",
       "1         Yes     Fiber optic    41.0              Yes      Mailed check    No  \n",
       "2          No     Fiber optic     2.0               No       Credit card    No  \n",
       "3          No             DSL    19.0              Yes  Electronic check    No  \n",
       "4         Yes             DSL     1.0              Yes  Electronic check    No  "
      ]
     },
     "execution_count": 54,
     "metadata": {},
     "output_type": "execute_result"
    }
   ],
   "source": [
    "# Displaying the first five instances from the newly generated dataset\n",
    "churn.head()"
   ]
  },
  {
   "cell_type": "markdown",
   "metadata": {},
   "source": [
    "Saving the dataset"
   ]
  },
  {
   "cell_type": "code",
   "execution_count": 55,
   "metadata": {},
   "outputs": [],
   "source": [
    "# Saving the dataset as a csv file for future use\n",
    "churn.to_csv('churn_data.csv', index=False)"
   ]
  }
 ],
 "metadata": {
  "kernelspec": {
   "display_name": "Python 3",
   "language": "python",
   "name": "python3"
  },
  "language_info": {
   "codemirror_mode": {
    "name": "ipython",
    "version": 3
   },
   "file_extension": ".py",
   "mimetype": "text/x-python",
   "name": "python",
   "nbconvert_exporter": "python",
   "pygments_lexer": "ipython3",
   "version": "3.11.7"
  }
 },
 "nbformat": 4,
 "nbformat_minor": 2
}
